{
 "cells": [
  {
   "cell_type": "code",
   "execution_count": null,
   "id": "47c31c66",
   "metadata": {},
   "outputs": [],
   "source": [
    "\"\"\"\n",
    "\n",
    "Write a Python Program to Display Fibonacci Sequence Using Recursion?\n",
    "Write a Python Program to Find Factorial of Number Using Recursion?\n",
    "Write a Python Program to calculate your Body Mass Index?\n",
    "Write a Python Program to calculate the natural logarithm of any number?\n",
    "Write a Python Program for cube sum of first n natural numbers?\n",
    "\n",
    "\"\"\""
   ]
  },
  {
   "cell_type": "code",
   "execution_count": 12,
   "id": "38d2a603",
   "metadata": {},
   "outputs": [],
   "source": [
    "#Write a Python Program to Display Fibonacci Sequence Using Recursion? \n",
    "#0 1 1 2 3 5 8 13 21\n",
    "\n",
    "def fibo(n):\n",
    "    if n <= 1:\n",
    "        return n\n",
    "    else:\n",
    "        return (fibo(n-2) + fibo(n-1))\n",
    "    \n"
   ]
  },
  {
   "cell_type": "code",
   "execution_count": 16,
   "id": "954c657a",
   "metadata": {},
   "outputs": [
    {
     "name": "stdout",
     "output_type": "stream",
     "text": [
      "Enter Number of Sequence : 9\n",
      "Fibonacci Sequence \n",
      "0\n",
      "1\n",
      "1\n",
      "2\n",
      "3\n",
      "5\n",
      "8\n",
      "13\n",
      "21\n"
     ]
    }
   ],
   "source": [
    "n = int(input(\"Enter Number of Sequence : \"))\n",
    "\n",
    "if n <= 0:\n",
    "    print(\"Enter a positive value\")\n",
    "    \n",
    "else : \n",
    "    print(\"Fibonacci Sequence \")\n",
    "    for i in range(n):\n",
    "        print(fibo(i))\n",
    "        "
   ]
  },
  {
   "cell_type": "code",
   "execution_count": null,
   "id": "c68c9e08",
   "metadata": {},
   "outputs": [],
   "source": []
  },
  {
   "cell_type": "code",
   "execution_count": 27,
   "id": "abe58699",
   "metadata": {},
   "outputs": [],
   "source": [
    "#Write a Python Program to Find Factorial of Number Using Recursion?\n",
    "\n",
    "\n",
    "def fact(n): #using non recursion\n",
    "    prod = 1\n",
    "    while n > 0 :\n",
    "        prod = prod * n\n",
    "        n = n -1\n",
    "    \n",
    "    return prod\n",
    "\n",
    "\n",
    "def fact1(n): #using Recursion\n",
    "    if n <= 1:\n",
    "        return n\n",
    "    else:\n",
    "        return n*fact1(n-1)"
   ]
  },
  {
   "cell_type": "code",
   "execution_count": 29,
   "id": "1fd6c668",
   "metadata": {},
   "outputs": [
    {
     "name": "stdout",
     "output_type": "stream",
     "text": [
      "Enter factorial: 6\n",
      "720\n"
     ]
    }
   ],
   "source": [
    "n = int(input(\"Enter factorial: \"))\n",
    "\n",
    "if n <= 1 :\n",
    "    print(\"Fact:\" , n )\n",
    "\n",
    "else:\n",
    "    val = fact1(n)\n",
    "    print(val)"
   ]
  },
  {
   "cell_type": "code",
   "execution_count": null,
   "id": "3722452d",
   "metadata": {},
   "outputs": [],
   "source": []
  },
  {
   "cell_type": "code",
   "execution_count": 31,
   "id": "f641c523",
   "metadata": {},
   "outputs": [
    {
     "name": "stdout",
     "output_type": "stream",
     "text": [
      "Enter Mass(in kg): 50\n",
      "Enter height(in m): 1.76\n",
      "Body Mass Index :  16.141528925619834\n"
     ]
    }
   ],
   "source": [
    "#Write a Python Program to calculate your Body Mass Index?\n",
    "\n",
    "mass = float(input(\"Enter Mass(in kg): \"))\n",
    "height = float(input(\"Enter height(in m): \"))\n",
    "\n",
    "bmi = mass/(height**2)\n",
    "print(\"Body Mass Index : \" , bmi)"
   ]
  },
  {
   "cell_type": "code",
   "execution_count": null,
   "id": "71a34499",
   "metadata": {},
   "outputs": [],
   "source": []
  },
  {
   "cell_type": "code",
   "execution_count": 34,
   "id": "6538fc58",
   "metadata": {},
   "outputs": [
    {
     "name": "stdout",
     "output_type": "stream",
     "text": [
      "Enter a number5\n",
      "log value =  1.6094379124341003\n"
     ]
    }
   ],
   "source": [
    "#Write a Python Program to calculate the natural logarithm of any number?\n",
    "\n",
    "import math\n",
    "\n",
    "print(\"log value = \",math.log(int(input(\"Enter a number\"))))"
   ]
  },
  {
   "cell_type": "code",
   "execution_count": null,
   "id": "43695d81",
   "metadata": {},
   "outputs": [],
   "source": []
  },
  {
   "cell_type": "code",
   "execution_count": 39,
   "id": "3f2bb60a",
   "metadata": {},
   "outputs": [
    {
     "name": "stdout",
     "output_type": "stream",
     "text": [
      "Enter a number: 2\n",
      "sum =  9\n"
     ]
    }
   ],
   "source": [
    "# Write a Python Program for cube sum of first n natural numbers?\n",
    "\n",
    "n = int(input(\"Enter a number: \"))\n",
    "s = 0\n",
    "for i in range(1, n+1):\n",
    "    s = s + i**3\n",
    "    \n",
    "print(\"sum = \", s)\n",
    "\n"
   ]
  },
  {
   "cell_type": "code",
   "execution_count": null,
   "id": "552999fa",
   "metadata": {},
   "outputs": [],
   "source": []
  }
 ],
 "metadata": {
  "kernelspec": {
   "display_name": "Python 3 (ipykernel)",
   "language": "python",
   "name": "python3"
  },
  "language_info": {
   "codemirror_mode": {
    "name": "ipython",
    "version": 3
   },
   "file_extension": ".py",
   "mimetype": "text/x-python",
   "name": "python",
   "nbconvert_exporter": "python",
   "pygments_lexer": "ipython3",
   "version": "3.9.7"
  }
 },
 "nbformat": 4,
 "nbformat_minor": 5
}
