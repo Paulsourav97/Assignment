{
 "cells": [
  {
   "cell_type": "markdown",
   "id": "ebc76422",
   "metadata": {},
   "source": [
    "Assignment 13\n",
    "\n",
    "1. What advantages do Excel spreadsheets have over CSV spreadsheets?\n",
    "\n",
    "We cannot perform operations on CSV files. \n",
    "\n",
    "However CSV files consumes less memory.\n",
    "\n",
    "2.What do you pass to csv.reader() and csv.writer() to create reader and writer objects?\n",
    "\n",
    "We pass the file name. If the csv file is present in same directory.\n",
    "Complete file path. If present in different directory.\n",
    "\n",
    "3. What modes do File objects for reader and writer objects need to be opened in?\n",
    "\n",
    "For reader we need to pass a parameter 'r' , writer 'w'.\n",
    "\n",
    "4. What method takes a list argument and writes it to a CSV file?\n",
    "\n",
    "csv.writer()\n",
    "\n",
    "\n",
    "5. What do the keyword arguments delimiter and line terminator do?\n",
    "\n",
    "The delimiter is the character that appears between cells on a row. \n",
    "By default, the delimiter for a CSV file is a comma. \n",
    "The line terminator is the character that comes at the end of a row. \n",
    "By default, the line terminator is a newline.\n",
    "\n",
    "\n",
    "6. What function takes a string of JSON data and returns a Python data structure?\n",
    "\n",
    "json.loads\n",
    "\n",
    "7. What function takes a Python data structure and returns a string of JSON data?\n",
    "\n",
    "json.dumps"
   ]
  }
 ],
 "metadata": {
  "kernelspec": {
   "display_name": "Python 3 (ipykernel)",
   "language": "python",
   "name": "python3"
  },
  "language_info": {
   "codemirror_mode": {
    "name": "ipython",
    "version": 3
   },
   "file_extension": ".py",
   "mimetype": "text/x-python",
   "name": "python",
   "nbconvert_exporter": "python",
   "pygments_lexer": "ipython3",
   "version": "3.9.7"
  }
 },
 "nbformat": 4,
 "nbformat_minor": 5
}
