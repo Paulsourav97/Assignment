{
 "cells": [
  {
   "cell_type": "code",
   "execution_count": null,
   "id": "91e47143",
   "metadata": {},
   "outputs": [],
   "source": [
    "\"\"\"\n",
    "Write a Python Program to Add Two Matrices?\n",
    "Write a Python Program to Multiply Two Matrices?\n",
    "Write a Python Program to Transpose a Matrix?\n",
    "Write a Python Program to Sort Words in Alphabetic Order?\n",
    "Write a Python Program to Remove Punctuation From a String?\n",
    "\n",
    "\"\"\""
   ]
  },
  {
   "cell_type": "code",
   "execution_count": 6,
   "id": "77c3f8d0",
   "metadata": {},
   "outputs": [
    {
     "name": "stdout",
     "output_type": "stream",
     "text": [
      "[[10, 10, 10], [10, 10, 10], [10, 10, 10]]\n"
     ]
    }
   ],
   "source": [
    "#Write a Python Program to Add Two Matrices?\n",
    "\n",
    "mat1 = [[1,2,3],\n",
    "        [4,5,6],\n",
    "        [7,8,9]]\n",
    "\n",
    "mat2 = [[9,8,7],\n",
    "        [6,5,4],\n",
    "        [3,2,1]]\n",
    "\n",
    "res = [[0,0,0],\n",
    "       [0,0,0],\n",
    "       [0,0,0]]\n",
    "\n",
    "for i in range(len(mat1)):\n",
    "    for j in range(len(mat2)):\n",
    "        res[i][j] = mat1[i][j] + mat2[i][j]\n",
    "        \n",
    "print(res)\n"
   ]
  },
  {
   "cell_type": "code",
   "execution_count": 10,
   "id": "293d93a0",
   "metadata": {},
   "outputs": [
    {
     "name": "stdout",
     "output_type": "stream",
     "text": [
      "[[30, 24, 18], [84, 69, 54], [138, 114, 90]]\n"
     ]
    }
   ],
   "source": [
    "#Write a Python Program to Multiply Two Matrices?\n",
    "\n",
    "mat1 = [[1,2,3],\n",
    "        [4,5,6],\n",
    "        [7,8,9]]\n",
    "\n",
    "mat2 = [[9,8,7],\n",
    "        [6,5,4],\n",
    "        [3,2,1]]\n",
    "\n",
    "result = [[0,0,0],\n",
    "       [0,0,0],\n",
    "       [0,0,0]]\n",
    "\n",
    "for i in range(len(mat1)):\n",
    " \n",
    "    # iterating by column by B\n",
    "    for j in range(len(mat2[0])):\n",
    " \n",
    "        # iterating by rows of B\n",
    "        for k in range(len(mat2)):\n",
    "            result[i][j] += mat1[i][k] * mat2[k][j]\n",
    "            \n",
    "            \n",
    "print(result)\n"
   ]
  },
  {
   "cell_type": "code",
   "execution_count": 14,
   "id": "27cb2a09",
   "metadata": {},
   "outputs": [
    {
     "name": "stdout",
     "output_type": "stream",
     "text": [
      "[[1, 3], [2, 4]]\n"
     ]
    }
   ],
   "source": [
    "# Write a Python Program to Transpose a Matrix?\n",
    "\n",
    "\n",
    "mat1 = [[1,2],\n",
    "        [3,4]]\n",
    "\n",
    "\n",
    "res = [[0,0],\n",
    "          [0,0]]\n",
    "\n",
    "for i in range(len(mat1)):\n",
    "    for j in range(len(mat1)):\n",
    "        res[i][j]=mat1[j][i]\n",
    "        \n",
    "        \n",
    "print(res)"
   ]
  },
  {
   "cell_type": "code",
   "execution_count": 26,
   "id": "5ce675dd",
   "metadata": {},
   "outputs": [
    {
     "name": "stdout",
     "output_type": "stream",
     "text": [
      "  eiloouvy"
     ]
    }
   ],
   "source": [
    "#Write a Python Program to Sort Words in Alphabetic Order?\n",
    "\n",
    "word = \"I love you\"\n",
    "\n",
    "word1 = sorted(word.lower())\n",
    "\n",
    "for i in word1:\n",
    "    print(i, end=\"\")"
   ]
  },
  {
   "cell_type": "code",
   "execution_count": 32,
   "id": "0d64cc5d",
   "metadata": {},
   "outputs": [
    {
     "name": "stdout",
     "output_type": "stream",
     "text": [
      "I love you"
     ]
    }
   ],
   "source": [
    "#Write a Python Program to Remove Punctuation From a String?\n",
    "\n",
    "word = \"I love, you\"\n",
    "\n",
    "for i in word :\n",
    "    if (i.isidentifier() or i.isspace()):\n",
    "        print(i, end=\"\")"
   ]
  },
  {
   "cell_type": "code",
   "execution_count": null,
   "id": "d1af4c19",
   "metadata": {},
   "outputs": [],
   "source": []
  },
  {
   "cell_type": "code",
   "execution_count": null,
   "id": "8d4f82fa",
   "metadata": {},
   "outputs": [],
   "source": []
  }
 ],
 "metadata": {
  "kernelspec": {
   "display_name": "Python 3 (ipykernel)",
   "language": "python",
   "name": "python3"
  },
  "language_info": {
   "codemirror_mode": {
    "name": "ipython",
    "version": 3
   },
   "file_extension": ".py",
   "mimetype": "text/x-python",
   "name": "python",
   "nbconvert_exporter": "python",
   "pygments_lexer": "ipython3",
   "version": "3.9.7"
  }
 },
 "nbformat": 4,
 "nbformat_minor": 5
}
