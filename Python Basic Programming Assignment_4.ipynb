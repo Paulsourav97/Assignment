{
 "cells": [
  {
   "cell_type": "markdown",
   "metadata": {},
   "source": [
    "Write a Python Program to Find the Factorial of a Number?\n",
    "Write a Python Program to Display the multiplication Table?\n",
    "Write a Python Program to Print the Fibonacci sequence?\n",
    "Write a Python Program to Check Armstrong Number?\n",
    "Write a Python Program to Find Armstrong Number in an Interval?\n",
    "Write a Python Program to Find the Sum of Natural Numbers?\n"
   ]
  },
  {
   "cell_type": "code",
   "execution_count": 3,
   "metadata": {},
   "outputs": [
    {
     "name": "stdout",
     "output_type": "stream",
     "text": [
      "Enter a Number to check Fact! : 6\n",
      "Factorial :  720\n"
     ]
    }
   ],
   "source": [
    "#Write a Python Program to Find the Factorial of a Number?\n",
    "\n",
    "num = int(input(\"Enter a Number to check Fact! : \"))\n",
    "fact = 1\n",
    "for i in range(num,0,-1):\n",
    "    fact = fact * i\n",
    "    \n",
    "print(\"Factorial : \", fact)"
   ]
  },
  {
   "cell_type": "code",
   "execution_count": 4,
   "metadata": {},
   "outputs": [
    {
     "name": "stdout",
     "output_type": "stream",
     "text": [
      "Enter a number to check Table:  5\n",
      "5 * 1 = 5\n",
      "5 * 2 = 10\n",
      "5 * 3 = 15\n",
      "5 * 4 = 20\n",
      "5 * 5 = 25\n",
      "5 * 6 = 30\n",
      "5 * 7 = 35\n",
      "5 * 8 = 40\n",
      "5 * 9 = 45\n",
      "5 * 10 = 50\n"
     ]
    }
   ],
   "source": [
    "#Write a Python Program to Display the multiplication Table?\n",
    "\n",
    "num = int(input(\"Enter a number to check Table:  \"))\n",
    "\n",
    "for i in range (1, 11):\n",
    "    print(num , \"*\", i ,\"=\", num*i )"
   ]
  },
  {
   "cell_type": "code",
   "execution_count": 16,
   "metadata": {},
   "outputs": [
    {
     "name": "stdout",
     "output_type": "stream",
     "text": [
      "Enter number of term : 10\n",
      "0\n",
      "1\n",
      "1\n",
      "2\n",
      "3\n",
      "5\n",
      "8\n",
      "13\n",
      "21\n",
      "34\n"
     ]
    }
   ],
   "source": [
    "#Write a Python Program to Print the Fibonacci sequence?\n",
    "# 0 1 1 2 3 5 8 \n",
    "\n",
    "a = 0\n",
    "b = 1\n",
    "\n",
    "n = int(input(\"Enter number of term : \"))\n",
    "print(a)\n",
    " \n",
    "\n",
    "for i in range (1, n):\n",
    "    b = b + a\n",
    "    a = b-a\n",
    "    print(a)\n",
    "    "
   ]
  },
  {
   "cell_type": "code",
   "execution_count": 14,
   "metadata": {},
   "outputs": [
    {
     "name": "stdout",
     "output_type": "stream",
     "text": [
      "Enter number of term : 10\n",
      "0\n",
      "1\n",
      "1\n",
      "2\n",
      "3\n",
      "5\n",
      "8\n",
      "13\n",
      "21\n",
      "34\n",
      "55\n"
     ]
    }
   ],
   "source": [
    "#Write a Python Program to Print the Fibonacci sequence?\n",
    "\n",
    "a = 0\n",
    "b = 1\n",
    "c = 0\n",
    "n = int(input(\"Enter number of term : \"))\n",
    "print(a)\n",
    "print(b)\n",
    "for i in range (1, n):\n",
    "    c = a + b\n",
    "    a = b\n",
    "    b = c\n",
    "    print(c)"
   ]
  },
  {
   "cell_type": "code",
   "execution_count": 20,
   "metadata": {},
   "outputs": [
    {
     "name": "stdout",
     "output_type": "stream",
     "text": [
      "Enter a number >99 : 555\n",
      "555 Not an Armstong number\n"
     ]
    }
   ],
   "source": [
    "#Write a Python Program to Check Armstrong Number?\n",
    "\n",
    "n = int(input(\"Enter a number >99 : \"))\n",
    "num = n\n",
    "n1 = 0\n",
    "a = 0\n",
    "while (n != 0):\n",
    "    a = n%10\n",
    "    n = int(n/10)\n",
    "    n1 = n1 + a**3\n",
    "\n",
    "if n1 == num :\n",
    "    print(num, \"is Armstrong Number\")\n",
    "    \n",
    "else: \n",
    "    print(num, \"Not an Armstong number\")"
   ]
  },
  {
   "cell_type": "code",
   "execution_count": 3,
   "metadata": {},
   "outputs": [
    {
     "name": "stdout",
     "output_type": "stream",
     "text": [
      "Enter Start: 100\n",
      "Enter end: 1000\n",
      "153 is Armstrong Number\n",
      "370 is Armstrong Number\n",
      "371 is Armstrong Number\n",
      "407 is Armstrong Number\n"
     ]
    }
   ],
   "source": [
    "#Write a Python Program to Find Armstrong Number in an Interval\n",
    "\n",
    "start = int(input(\"Enter Start: \"))\n",
    "end = int(input(\"Enter end: \"))\n",
    "\n",
    "n1 = 0\n",
    "a = 0\n",
    "\n",
    "\n",
    "for i in range(start,end,1): \n",
    "    temp = i\n",
    "    n1 = 0   \n",
    "    while (temp != 0):\n",
    "        a = temp%10\n",
    "        temp = int(temp/10)\n",
    "        n1 = n1 + a**3\n",
    "\n",
    "    if n1 == i :\n",
    "        print(n1, \"is Armstrong Number\")\n",
    "    \n"
   ]
  },
  {
   "cell_type": "code",
   "execution_count": 6,
   "metadata": {},
   "outputs": [
    {
     "name": "stdout",
     "output_type": "stream",
     "text": [
      "Enter a number: 10\n",
      "sum of all natural number:  55.0\n"
     ]
    }
   ],
   "source": [
    "#Write a Python Program to Find the Sum of Natural Numbers?\n",
    "\n",
    "num = int(input(\"Enter a number: \"))\n",
    "s = 0\n",
    "s = num * (num + 1) * 0.5\n",
    "\n",
    "print(\"sum of all natural number: \" , s)"
   ]
  },
  {
   "cell_type": "code",
   "execution_count": null,
   "metadata": {},
   "outputs": [],
   "source": []
  }
 ],
 "metadata": {
  "kernelspec": {
   "display_name": "Python 3",
   "language": "python",
   "name": "python3"
  },
  "language_info": {
   "codemirror_mode": {
    "name": "ipython",
    "version": 3
   },
   "file_extension": ".py",
   "mimetype": "text/x-python",
   "name": "python",
   "nbconvert_exporter": "python",
   "pygments_lexer": "ipython3",
   "version": "3.7.0"
  }
 },
 "nbformat": 4,
 "nbformat_minor": 2
}
