{
 "cells": [
  {
   "cell_type": "code",
   "execution_count": null,
   "id": "501ed655",
   "metadata": {},
   "outputs": [],
   "source": [
    "\"\"\"\n",
    "Write a Python program to check if the given number is a Disarium Number?\n",
    "Write a Python program to print all disarium numbers between 1 to 100?\n",
    "Write a Python program to check if the given number is Happy Number?\n",
    "Write a Python program to print all happy numbers between 1 and 100?\n",
    "Write a Python program to determine whether the given number is a Harshad Number?\n",
    "Write a Python program to print all pronic numbers between 1 and 100?\n",
    "\n",
    "\"\"\""
   ]
  },
  {
   "cell_type": "code",
   "execution_count": 45,
   "id": "d75e9c33",
   "metadata": {},
   "outputs": [],
   "source": [
    "#Write a Python program to check if the given number is a Disarium Number?\n",
    "\n",
    "\n",
    "\n",
    "def length(num1):\n",
    "    l = 0\n",
    "    while(num1 != 0):\n",
    "        l = l + 1\n",
    "        num1 = num1//10\n",
    "    return l\n",
    "\n",
    "def checkdisarium(num1):\n",
    "    num = num1\n",
    "    l = length(num1) \n",
    "    s = 0\n",
    "    while(num1 != 0):\n",
    "        r = num1%10\n",
    "        s = s + (r**l)\n",
    "        l = l - 1\n",
    "        num1 = num1//10\n",
    "    \n",
    "    if (s == num):\n",
    "        return True\n",
    "    else:\n",
    "        return False\n",
    "    "
   ]
  },
  {
   "cell_type": "code",
   "execution_count": 42,
   "id": "bc566bc0",
   "metadata": {},
   "outputs": [
    {
     "name": "stdout",
     "output_type": "stream",
     "text": [
      "Not Disarium Number\n"
     ]
    }
   ],
   "source": [
    "res = checkdisarium(176)\n",
    "print(res)"
   ]
  },
  {
   "cell_type": "code",
   "execution_count": 47,
   "id": "d6f17fc6",
   "metadata": {},
   "outputs": [
    {
     "name": "stdout",
     "output_type": "stream",
     "text": [
      "89 is Disarium Number\n",
      "135 is Disarium Number\n",
      "175 is Disarium Number\n",
      "518 is Disarium Number\n",
      "598 is Disarium Number\n"
     ]
    }
   ],
   "source": [
    "# Write a Python program to print all disarium numbers between 1 to 100?\n",
    "\n",
    "for i in range(10, 1000):\n",
    "    res = checkdisarium(i)\n",
    "    if res == True:\n",
    "        print(i, \"is Disarium Number\")\n",
    "    "
   ]
  },
  {
   "cell_type": "code",
   "execution_count": 56,
   "id": "40c2714b",
   "metadata": {},
   "outputs": [],
   "source": [
    "# Write a Python program to check if the given number is Happy Number? 19 = 1^2 + 9^1 = 10 = 1 + 0 = 1\n",
    "\n",
    "def alpha(num):\n",
    "    s = 0\n",
    "    r = 0\n",
    "    i = 1\n",
    "    while(num != 0 ):\n",
    "        r = num%10\n",
    "        s = s + (r**i)\n",
    "        i = i + 1\n",
    "        num = num//10\n",
    "    \n",
    "    return s \n",
    "\n",
    "def Happy(num):\n",
    "    s = alpha(num)\n",
    "    res = 0\n",
    "    while(s != 0):\n",
    "        r = s%10\n",
    "        res = res + r\n",
    "        s = s//10\n",
    "        \n",
    "    if res == 1:\n",
    "        return \"Happy Number\"\n",
    "    \n",
    "    else:\n",
    "        return \"Unhappy Number\"\n",
    "        \n",
    "        "
   ]
  },
  {
   "cell_type": "code",
   "execution_count": 58,
   "id": "cba39bee",
   "metadata": {},
   "outputs": [
    {
     "name": "stdout",
     "output_type": "stream",
     "text": [
      "Unhappy Number\n"
     ]
    }
   ],
   "source": [
    "print(Happy(20))"
   ]
  },
  {
   "cell_type": "code",
   "execution_count": 59,
   "id": "c0254ea2",
   "metadata": {},
   "outputs": [
    {
     "name": "stdout",
     "output_type": "stream",
     "text": [
      "1  is a Happyy Number\n",
      "10  is a Happyy Number\n",
      "19  is a Happyy Number\n",
      "26  is a Happyy Number\n",
      "31  is a Happyy Number\n"
     ]
    }
   ],
   "source": [
    "#Write a Python program to print all happy numbers between 1 and 100?\n",
    "\n",
    "for i in range(1,100):\n",
    "    res = Happy(i)\n",
    "    if res == \"Happy Number\":\n",
    "        print(i, \" is a Happyy Number\")"
   ]
  },
  {
   "cell_type": "code",
   "execution_count": 74,
   "id": "864a297a",
   "metadata": {},
   "outputs": [],
   "source": [
    "#Write a Python program to determine whether the given number is a Harshad Number?\n",
    "\n",
    "def Harshad(num):\n",
    "    n = num\n",
    "    r = 0  \n",
    "    s = 0\n",
    "    while(n != 0):\n",
    "        r = n % 10\n",
    "        s = s + r\n",
    "        n = n//10\n",
    "        \n",
    "    if(num%s == 0):\n",
    "        return(\"Harshad Number\")\n",
    "    else:\n",
    "        return(\"Not Harshad Number\")"
   ]
  },
  {
   "cell_type": "code",
   "execution_count": 70,
   "id": "ee17377b",
   "metadata": {},
   "outputs": [
    {
     "name": "stdout",
     "output_type": "stream",
     "text": [
      "Harshad Number\n"
     ]
    }
   ],
   "source": [
    "Harshad(111)"
   ]
  },
  {
   "cell_type": "code",
   "execution_count": 77,
   "id": "12e8b055",
   "metadata": {},
   "outputs": [
    {
     "name": "stdout",
     "output_type": "stream",
     "text": [
      "100 is Harshad Number\n",
      "102 is Harshad Number\n",
      "108 is Harshad Number\n",
      "110 is Harshad Number\n",
      "111 is Harshad Number\n",
      "112 is Harshad Number\n",
      "114 is Harshad Number\n",
      "117 is Harshad Number\n",
      "120 is Harshad Number\n",
      "126 is Harshad Number\n",
      "132 is Harshad Number\n",
      "133 is Harshad Number\n",
      "135 is Harshad Number\n",
      "140 is Harshad Number\n",
      "144 is Harshad Number\n",
      "150 is Harshad Number\n",
      "152 is Harshad Number\n",
      "153 is Harshad Number\n",
      "156 is Harshad Number\n",
      "162 is Harshad Number\n",
      "171 is Harshad Number\n",
      "180 is Harshad Number\n",
      "190 is Harshad Number\n",
      "192 is Harshad Number\n",
      "195 is Harshad Number\n",
      "198 is Harshad Number\n"
     ]
    }
   ],
   "source": [
    "# Write a Python program to print all pronic numbers between 1 and 100?\n",
    "\n",
    "for i in range (100, 200):\n",
    "    res = Harshad(i)\n",
    "    \n",
    "    if res == \"Harshad Number\" :\n",
    "        print(i, \"is Harshad Number\")\n",
    "    "
   ]
  },
  {
   "cell_type": "code",
   "execution_count": null,
   "id": "8ad7e85c",
   "metadata": {},
   "outputs": [],
   "source": []
  }
 ],
 "metadata": {
  "kernelspec": {
   "display_name": "Python 3 (ipykernel)",
   "language": "python",
   "name": "python3"
  },
  "language_info": {
   "codemirror_mode": {
    "name": "ipython",
    "version": 3
   },
   "file_extension": ".py",
   "mimetype": "text/x-python",
   "name": "python",
   "nbconvert_exporter": "python",
   "pygments_lexer": "ipython3",
   "version": "3.9.7"
  }
 },
 "nbformat": 4,
 "nbformat_minor": 5
}
