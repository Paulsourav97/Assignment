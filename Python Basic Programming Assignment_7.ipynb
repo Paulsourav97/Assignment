{
 "cells": [
  {
   "cell_type": "code",
   "execution_count": null,
   "id": "2f4b4b6f",
   "metadata": {},
   "outputs": [],
   "source": [
    "\"\"\"Write a Python Program to find sum of array?\n",
    "Write a Python Program to find largest element in an array?\n",
    "Write a Python Program for array rotation?\n",
    "Write a Python Program to Split the array and add the first part to the end?\n",
    "Write a Python Program to check if given array is Monotonic?\n",
    "\"\"\""
   ]
  },
  {
   "cell_type": "code",
   "execution_count": 7,
   "id": "29cff8fe",
   "metadata": {},
   "outputs": [
    {
     "name": "stdout",
     "output_type": "stream",
     "text": [
      "45\n"
     ]
    }
   ],
   "source": [
    "#Write a Python Program to find sum of array?\n",
    "arr = [1,2,3,4,5,6,7,8,9,0]\n",
    "s = 0\n",
    "for i in arr:\n",
    "    s = s + i\n",
    "\n",
    "print(s)"
   ]
  },
  {
   "cell_type": "code",
   "execution_count": 14,
   "id": "97084981",
   "metadata": {},
   "outputs": [
    {
     "name": "stdout",
     "output_type": "stream",
     "text": [
      "Largest : 100\n"
     ]
    }
   ],
   "source": [
    "#Write a Python Program to find largest element in an array?\n",
    "\n",
    "arr = [61,2,3,44,15,6,17,8,9,100]\n",
    "temp = arr[0]\n",
    "\n",
    "for i in arr : \n",
    "    if (temp < i):\n",
    "        temp = i\n",
    "    else:\n",
    "        pass\n",
    "    \n",
    "print(\"Largest :\" , temp)\n",
    "    "
   ]
  },
  {
   "cell_type": "code",
   "execution_count": 31,
   "id": "662b0979",
   "metadata": {},
   "outputs": [
    {
     "ename": "IndexError",
     "evalue": "list index out of range",
     "output_type": "error",
     "traceback": [
      "\u001b[1;31m---------------------------------------------------------------------------\u001b[0m",
      "\u001b[1;31mIndexError\u001b[0m                                Traceback (most recent call last)",
      "\u001b[1;32m~\\AppData\\Local\\Temp/ipykernel_1992/2075704938.py\u001b[0m in \u001b[0;36m<module>\u001b[1;34m\u001b[0m\n\u001b[0;32m     13\u001b[0m \u001b[1;33m\u001b[0m\u001b[0m\n\u001b[0;32m     14\u001b[0m         \u001b[1;32mif\u001b[0m \u001b[1;33m(\u001b[0m\u001b[0mi\u001b[0m \u001b[1;33m<\u001b[0m \u001b[0mrot\u001b[0m\u001b[1;33m)\u001b[0m\u001b[1;33m:\u001b[0m\u001b[1;33m\u001b[0m\u001b[1;33m\u001b[0m\u001b[0m\n\u001b[1;32m---> 15\u001b[1;33m             \u001b[0mtemp\u001b[0m \u001b[1;33m=\u001b[0m \u001b[0marr\u001b[0m\u001b[1;33m[\u001b[0m\u001b[0ml\u001b[0m\u001b[1;33m-\u001b[0m\u001b[0mi\u001b[0m\u001b[1;33m]\u001b[0m\u001b[1;33m\u001b[0m\u001b[1;33m\u001b[0m\u001b[0m\n\u001b[0m\u001b[0;32m     16\u001b[0m             \u001b[0marr\u001b[0m\u001b[1;33m[\u001b[0m\u001b[0ml\u001b[0m\u001b[1;33m-\u001b[0m\u001b[0mi\u001b[0m\u001b[1;33m]\u001b[0m \u001b[1;33m=\u001b[0m \u001b[0marr\u001b[0m\u001b[1;33m[\u001b[0m\u001b[0mi\u001b[0m\u001b[1;33m]\u001b[0m\u001b[1;33m\u001b[0m\u001b[1;33m\u001b[0m\u001b[0m\n\u001b[0;32m     17\u001b[0m             \u001b[0marr\u001b[0m\u001b[1;33m[\u001b[0m\u001b[0mi\u001b[0m\u001b[1;33m]\u001b[0m \u001b[1;33m=\u001b[0m \u001b[0mtemp\u001b[0m\u001b[1;33m\u001b[0m\u001b[1;33m\u001b[0m\u001b[0m\n",
      "\u001b[1;31mIndexError\u001b[0m: list index out of range"
     ]
    }
   ],
   "source": [
    "#Write a Python Program for array rotation?\n",
    "\n",
    "arr = [1,2,3,4,5]\n",
    "l = len(arr)\n",
    "rot = 2\n",
    "temp = 0\n",
    "\n",
    "\n",
    "for i in range(l) :\n",
    "\n",
    "    while rot>0:\n",
    "        rot = rot -1\n",
    "    \n",
    "        if (i < rot):\n",
    "            temp = arr[l-i]\n",
    "            arr[l-i] = arr[i]\n",
    "            arr[i] = temp\n",
    "        \n",
    "        else:\n",
    "            temp = arr[i]\n",
    "            arr[i+1] = arr[i]\n",
    "        \n",
    "    temp = 0\n",
    "\n",
    "\n",
    "print(arr)"
   ]
  },
  {
   "cell_type": "code",
   "execution_count": 8,
   "id": "6361d5b6",
   "metadata": {},
   "outputs": [
    {
     "name": "stdout",
     "output_type": "stream",
     "text": [
      "Not Monotonic\n"
     ]
    }
   ],
   "source": [
    "# Write a Python Program to check if given array is Monotonic?\n",
    "\n",
    "arr = [1,2,4,5,6,7,9,0]\n",
    "l = len(arr)\n",
    "\n",
    "for i in range (0,l-1):\n",
    "    \n",
    "    if(arr[i]<arr[i+1]):\n",
    "        mon = True\n",
    "        \n",
    "    else:\n",
    "        mon = False\n",
    "        print(\"Not Monotonic\")\n",
    "        break\n",
    "        \n",
    "\n",
    "if mon == True:\n",
    "    print(\" Monotonic\")\n",
    "    "
   ]
  },
  {
   "cell_type": "code",
   "execution_count": null,
   "id": "c1aecaf8",
   "metadata": {},
   "outputs": [],
   "source": []
  }
 ],
 "metadata": {
  "kernelspec": {
   "display_name": "Python 3 (ipykernel)",
   "language": "python",
   "name": "python3"
  },
  "language_info": {
   "codemirror_mode": {
    "name": "ipython",
    "version": 3
   },
   "file_extension": ".py",
   "mimetype": "text/x-python",
   "name": "python",
   "nbconvert_exporter": "python",
   "pygments_lexer": "ipython3",
   "version": "3.9.7"
  }
 },
 "nbformat": 4,
 "nbformat_minor": 5
}
