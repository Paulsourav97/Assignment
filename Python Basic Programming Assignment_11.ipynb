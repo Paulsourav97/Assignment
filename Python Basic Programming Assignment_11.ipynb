{
 "cells": [
  {
   "cell_type": "code",
   "execution_count": null,
   "id": "6b349e2c",
   "metadata": {},
   "outputs": [],
   "source": [
    "\"\"\"Write a Python program to find words which are greater than given length k?\n",
    "Write a Python program for removing i-th character from a string?\n",
    "Write a Python program to split and join a string?\n",
    "Write a Python to check if a given string is binary string or not?\n",
    "Write a Python program to find uncommon words from two Strings?\n",
    "Write a Python to find all duplicate characters in string?\n",
    "Write a Python Program to check if a string contains any special character?\n",
    "\"\"\""
   ]
  },
  {
   "cell_type": "code",
   "execution_count": 37,
   "id": "71f7a2d9",
   "metadata": {},
   "outputs": [
    {
     "name": "stdout",
     "output_type": "stream",
     "text": [
      "Python\n",
      "program\n",
      "greater\n",
      "length\n"
     ]
    }
   ],
   "source": [
    "#Write a Python program to find words which are greater than given length k?\n",
    "\n",
    "strg = \"Write a Python program to find words which are greater than given length k?\"\n",
    "\n",
    "wd = strg.split()\n",
    "maxm = \"\"\n",
    "for i in wd:\n",
    "    if(len(i)>= 6):\n",
    "        maxm = i\n",
    "        print(maxm)\n",
    "    "
   ]
  },
  {
   "cell_type": "code",
   "execution_count": 5,
   "id": "ae288968",
   "metadata": {},
   "outputs": [
    {
     "name": "stdout",
     "output_type": "stream",
     "text": [
      "Sourv Paul\n"
     ]
    }
   ],
   "source": [
    "#Write a Python program for removing i-th character from a string?\n",
    "\n",
    "mystr = \"Sourav Paul\"\n",
    "newstr = \"\"\n",
    "\n",
    "i = 4\n",
    "\n",
    "for j in range(len(mystr)):\n",
    "    if j == i:\n",
    "        pass\n",
    "    else:\n",
    "        newstr = newstr + mystr[j]\n",
    "        \n",
    "print(newstr)\n"
   ]
  },
  {
   "cell_type": "code",
   "execution_count": 12,
   "id": "5a1bdc16",
   "metadata": {},
   "outputs": [],
   "source": [
    "#Write a Python program to split and join a string?\n",
    "\n",
    "\n",
    "def split(strg, pos):\n",
    "    str1 = \"\"\n",
    "    str2 = \"\"\n",
    "    for i in range(len(strg)):\n",
    "        if i <= pos:\n",
    "            str1 = str1 + strg[i]\n",
    "        else:\n",
    "            str2 = str2 + strg[i]\n",
    "    print(\"Str1 = \", str1)\n",
    "    print(\"Str2 = \", str2)\n",
    "    \n",
    "def join(str1, str2):\n",
    "    print(str1 + str2)\n",
    "    "
   ]
  },
  {
   "cell_type": "code",
   "execution_count": 13,
   "id": "092ccdce",
   "metadata": {},
   "outputs": [
    {
     "name": "stdout",
     "output_type": "stream",
     "text": [
      "Str1 =  Sourav Pay\n",
      "Str2 =  l hbhdf j\n",
      "SouravPaul\n"
     ]
    }
   ],
   "source": [
    "split(\"Sourav Payl hbhdf j\", 9)\n",
    "join('Sourav', 'Paul')"
   ]
  },
  {
   "cell_type": "code",
   "execution_count": 16,
   "id": "4f5e23fe",
   "metadata": {},
   "outputs": [
    {
     "name": "stdout",
     "output_type": "stream",
     "text": [
      "Enter to check binary string:  01001000100\n",
      "Binary String\n"
     ]
    }
   ],
   "source": [
    "#Write a Python to check if a given string is binary string or not?\n",
    "\n",
    "str1 = input(\"Enter to check binary string:  \")\n",
    "\n",
    "for i in range(len(str1)):\n",
    "    if(str1[i]=='0' or str1[i]=='1'):\n",
    "        flag = True\n",
    "    else:\n",
    "        flag = False\n",
    "        break\n",
    "    \n",
    "if flag == True:\n",
    "    print(\"Binary String\")\n",
    "    \n",
    "else:\n",
    "    print(\"Not a binary string\")\n"
   ]
  },
  {
   "cell_type": "code",
   "execution_count": 33,
   "id": "4a35fe70",
   "metadata": {},
   "outputs": [],
   "source": [
    "#Write a Python program to find uncommon words from two Strings?\n",
    "\n",
    "str1 = \"Write a Python program to find uncommon words from two Strings\".split()\n",
    "str2 = \"Write a Python program to check if a given string is binary string or not\".split()\n",
    "\n",
    "unc = \"\"\n",
    "\n",
    "for word in str1:\n",
    "    if word not in str2:\n",
    "        unc = unc + \" \" + word\n",
    "\n",
    "for word in str2:\n",
    "    if word not in str1:\n",
    "        unc = unc + \" \" + word\n",
    "        "
   ]
  },
  {
   "cell_type": "code",
   "execution_count": 34,
   "id": "2319befa",
   "metadata": {},
   "outputs": [
    {
     "data": {
      "text/plain": [
       "' find uncommon words from two Strings check if given string is binary string or not'"
      ]
     },
     "execution_count": 34,
     "metadata": {},
     "output_type": "execute_result"
    }
   ],
   "source": [
    "unc"
   ]
  },
  {
   "cell_type": "code",
   "execution_count": 35,
   "id": "55275e86",
   "metadata": {},
   "outputs": [
    {
     "name": "stdout",
     "output_type": "stream",
     "text": [
      "u a "
     ]
    }
   ],
   "source": [
    "#Write a Python to find all duplicate characters in string?\n",
    "\n",
    "string = \"Sourav Paul\"\n",
    "dup = {}\n",
    "\n",
    "for char in string:\n",
    "    if char in dup:\n",
    "        dup[char] = dup[char] + 1\n",
    "    else:\n",
    "        dup[char] = 1\n",
    "        \n",
    "for key, value in dup.items():\n",
    "    if value>1:\n",
    "        print(key, end = \" \")\n",
    "        \n",
    "        \n",
    "#CODE COPIED NOT ABLE TO UNDERSTAND\n"
   ]
  },
  {
   "cell_type": "code",
   "execution_count": 36,
   "id": "f405d166",
   "metadata": {},
   "outputs": [
    {
     "data": {
      "text/plain": [
       "{'S': 1, 'o': 1, 'u': 2, 'r': 1, 'a': 2, 'v': 1, ' ': 1, 'P': 1, 'l': 1}"
      ]
     },
     "execution_count": 36,
     "metadata": {},
     "output_type": "execute_result"
    }
   ],
   "source": [
    "dup"
   ]
  },
  {
   "cell_type": "code",
   "execution_count": 41,
   "id": "6cdb28a3",
   "metadata": {},
   "outputs": [
    {
     "name": "stdout",
     "output_type": "stream",
     "text": [
      "Has Special Character\n"
     ]
    }
   ],
   "source": [
    "#Write a Python Program to check if a string contains any special character?\n",
    "\n",
    "str1 = \"sourav;\"\n",
    "\n",
    "for i in str1:\n",
    "    if (i.isidentifier() == False):\n",
    "        print(\"Has Special Character\")\n",
    "        break"
   ]
  },
  {
   "cell_type": "code",
   "execution_count": null,
   "id": "fb95a3ab",
   "metadata": {},
   "outputs": [],
   "source": []
  }
 ],
 "metadata": {
  "kernelspec": {
   "display_name": "Python 3 (ipykernel)",
   "language": "python",
   "name": "python3"
  },
  "language_info": {
   "codemirror_mode": {
    "name": "ipython",
    "version": 3
   },
   "file_extension": ".py",
   "mimetype": "text/x-python",
   "name": "python",
   "nbconvert_exporter": "python",
   "pygments_lexer": "ipython3",
   "version": "3.9.7"
  }
 },
 "nbformat": 4,
 "nbformat_minor": 5
}
