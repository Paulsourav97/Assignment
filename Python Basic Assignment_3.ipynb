{
 "cells": [
  {
   "cell_type": "code",
   "execution_count": null,
   "metadata": {},
   "outputs": [],
   "source": []
  },
  {
   "cell_type": "markdown",
   "metadata": {},
   "source": [
    "1. Why are functions advantageous to have in your programs?\n",
    "\n",
    "Functions are advantageous as we can use the same function multiple times without writing the code again and again.\n",
    "Also functions reduces the complexity of the code as we have option to write it in segments for specific operation.\n"
   ]
  },
  {
   "cell_type": "markdown",
   "metadata": {},
   "source": [
    "2. When does the code in a function run: when it's specified or when it's called?\n",
    "\n",
    "A code in a function only runs when they are called. "
   ]
  },
  {
   "cell_type": "markdown",
   "metadata": {},
   "source": [
    "3. What statement creates a function?\n",
    "\n",
    "A function can be defined  by :\n",
    "\n",
    " def function_name :\n",
    "         my code\n",
    "         \n",
    " \n",
    "Function can be called by: \n",
    " \n",
    " function_name(parameters)\n",
    " "
   ]
  },
  {
   "cell_type": "markdown",
   "metadata": {},
   "source": [
    "4. What is the difference between a function and a function call?\n",
    "\n",
    "A function is code that does a particular operation.\n",
    "\n",
    "Function call is the process to call the function.\n",
    "\n",
    "Eg: \n",
    "\n",
    "def add(a,b): #This is the function or where we are adding 2 integers\n",
    "    return a + b\n",
    "    \n",
    "add(4,5) #This is function calling where we can pass the parameters and the function will give the result\n",
    "\n"
   ]
  },
  {
   "cell_type": "markdown",
   "metadata": {},
   "source": [
    "5. How many global scopes are there in a Python program? How many local scopes?\n",
    "\n",
    "There is one global scope per execution of program.\n",
    "DOUBT"
   ]
  },
  {
   "cell_type": "markdown",
   "metadata": {},
   "source": [
    "6. What happens to variables in a local scope when the function call returns?\n",
    "\n",
    "DOUBT"
   ]
  },
  {
   "cell_type": "markdown",
   "metadata": {},
   "source": [
    "7. What is the concept of a return value? Is it possible to have a return value in an expression?\n",
    "\n",
    "Return : This is a reserved keyword that will return a value.\n",
    "\n",
    "Yes it is possible to return a value in expression.\n",
    "\n",
    "Eg: \n",
    "\n",
    "def add(a,b): #This is the function or where we are adding 2 integers\n",
    "    return a + b\n",
    "    \n",
    "add(4,5) #This is function calling where we can pass the parameters and the function will give the result\n",
    "\n"
   ]
  },
  {
   "cell_type": "markdown",
   "metadata": {},
   "source": [
    "8. If a function does not have a return statement, what is the return value of a call to that function?\n",
    "\n",
    "It will be None type format.\n",
    "    "
   ]
  },
  {
   "cell_type": "markdown",
   "metadata": {},
   "source": [
    "9. How do you make a function variable refer to the global variable?\n",
    "\n",
    "Doubt"
   ]
  },
  {
   "cell_type": "markdown",
   "metadata": {},
   "source": [
    "10. What is the data type of None?\n",
    "\n",
    "None is used to define a null value.\n",
    "It is a data type of the class NoneType object."
   ]
  },
  {
   "cell_type": "markdown",
   "metadata": {},
   "source": [
    "11. What does the sentence import areallyourpetsnamederic do?\n",
    "\n",
    "This will import a module named as areallyourpetsnamederic"
   ]
  },
  {
   "cell_type": "markdown",
   "metadata": {},
   "source": [
    "12. If you had a bacon() feature in a spam module, what would you call it after importing spam?\n",
    "\n",
    "spam.bacon()"
   ]
  },
  {
   "cell_type": "markdown",
   "metadata": {},
   "source": [
    "13. What can you do to save a programme from crashing if it encounters an error?\n",
    "\n",
    "Use of Exception handling is an excellent method to prevent the program from crashing if it encounters an error."
   ]
  },
  {
   "cell_type": "markdown",
   "metadata": {},
   "source": [
    "14. What is the purpose of the try clause? What is the purpose of the except clause?\n",
    "\n",
    "Try clause is used to test a code.\n",
    "In case it does not run properly and encounters an error it does not crash the entire program completely and runs the rest of the code.\n",
    "\n",
    "Except is used to handle an error and we can provide the desired response for the particular error.\n",
    "\n"
   ]
  }
 ],
 "metadata": {
  "kernelspec": {
   "display_name": "Python 3",
   "language": "python",
   "name": "python3"
  },
  "language_info": {
   "codemirror_mode": {
    "name": "ipython",
    "version": 3
   },
   "file_extension": ".py",
   "mimetype": "text/x-python",
   "name": "python",
   "nbconvert_exporter": "python",
   "pygments_lexer": "ipython3",
   "version": "3.7.0"
  }
 },
 "nbformat": 4,
 "nbformat_minor": 2
}
