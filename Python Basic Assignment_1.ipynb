{
 "cells": [
  {
   "cell_type": "markdown",
   "metadata": {},
   "source": [
    "1. In the below elements which of them are values or an expression? eg:- values can be\n",
    "integer or string and expressions will be mathematical operators.\n",
    "\n",
    "*\n",
    "&#39;hello&#39;\n",
    "-87.8\n",
    "-\n",
    "/\n",
    "+\n",
    "6"
   ]
  },
  {
   "cell_type": "markdown",
   "metadata": {},
   "source": [
    "Answer:\n",
    "\n",
    "Expression :  * , -, / , +\n",
    "Value : 'hello', -87.8, 6"
   ]
  },
  {
   "cell_type": "markdown",
   "metadata": {},
   "source": [
    "2. What is the difference between string and variable?\n",
    "\n",
    "Answer:\n",
    "\n",
    "\n",
    "string - string is a data type where we can store alphanumeric type of data as a non-numeric format.\n",
    "eg: str = \"Abcde 12345\"\n",
    "Where the number 12345 is also treated a a non-numeric or string value.\n",
    "\n",
    "Variable - Variable is a name given to a memory location assigned to store a data.\n",
    "eg: a = 12 , a stores a integer value\n",
    "    b = 12.545 , b stores a floating number.\n",
    "    str = \"Abcde 12345\", c stores a string value.\n"
   ]
  },
  {
   "cell_type": "markdown",
   "metadata": {},
   "source": [
    "3. Describe three different data types.\n",
    "\n",
    "Answer:\n",
    "\n",
    "Boolean - It is a type of data that either returns 'true' and 'false'.\n",
    "eg: a = True  . This is a boolean data type\n",
    "\n",
    "String - String is a data type where we can store alphanumeric type of data as a non-numeric format. \n",
    "eg: str = \"Abcde 12345\".  Where the number 12345 is also treated a a non-numeric or string value.\n",
    "\n",
    "Complex Number - Complex Number is a data type where we can store a complex number.\n",
    "eg: a = 2 + 3j\n",
    "Where 2 is the Real part of a complex number and '3j' is the imaginary part.\n",
    "Unlike in mathematics iota is denoted by j in python.\n",
    "\n"
   ]
  },
  {
   "cell_type": "markdown",
   "metadata": {},
   "source": [
    "4. What is an expression made up of? What do all expressions do?\n",
    "\n",
    "Answer:\n",
    "\n",
    "An experssion is made of operators(+,-,*,/,=) and operands.\n",
    "They perform a certain  operation to give a certain result.\n",
    "eg : a = 10 + 20\n",
    "\n",
    "10,20 are operands\n",
    "+ is the operator\n",
    "And this is the expression for a addition of two numbers.\n",
    "\n"
   ]
  },
  {
   "cell_type": "markdown",
   "metadata": {},
   "source": [
    "5. This assignment statements, like spam = 10. What is the difference between an expression and a statement?\n",
    "\n",
    "Answer:\n",
    "\n",
    "Expression: An expression is made up of operators and operands to perform a certain operation.\n",
    "\n",
    "Statement: A statement is an instruction that the Python interpreter can execute.\n",
    "eg: spam = 10, is an assignment statement where we store the value 10 in a variable 'spam'"
   ]
  },
  {
   "cell_type": "markdown",
   "metadata": {},
   "source": [
    "6. After running the following code, what does the variable bacon contain?\n",
    "bacon = 22\n",
    "bacon + 1\n",
    "\n",
    "Answer:\n",
    "\n",
    "Bacon will still have 22 stored.\n"
   ]
  },
  {
   "cell_type": "markdown",
   "metadata": {},
   "source": [
    "7. What should the values of the following two terms be?\n",
    "\n",
    "Answer: \n",
    "\n",
    "'spam' + 'spamspam' \n",
    "Output'spamspamspam'\n",
    "\n",
    "'spam' * 3 'spamspamspam'\n",
    "Output'spamspamspam'\n",
    "\n"
   ]
  },
  {
   "cell_type": "markdown",
   "metadata": {},
   "source": [
    "8. Why is eggs a valid variable name while 100 is invalid?\n",
    "\n",
    "Answer:\n",
    "According to naming cconvention we cannot declare a variable starting with number.\n",
    "Hence eggs is a valid while 100 is invalid."
   ]
  },
  {
   "cell_type": "markdown",
   "metadata": {},
   "source": [
    "9. What three functions can be used to get the integer, floating-point number, or string version of a value?\n",
    "\n",
    "Answer:\n",
    "The int() , float() , and str( ) functions will evaluate to the integer, floating-point number, and string versions of the value passed to them."
   ]
  },
  {
   "cell_type": "markdown",
   "metadata": {},
   "source": [
    "10. Why does this expression cause an error? How can you fix it?\n",
    "'I have eaten ' + 99 + ' burritos.'\n",
    "\n",
    "Answer:\n",
    "The above statement causes error because we cannot concatenate sting values with integer.\n",
    "As there is a data type mismatch hence it thorws an error.\n",
    "\n",
    "correct:\n",
    "'I have eaten' + '99' + 'burritos'"
   ]
  }
 ],
 "metadata": {
  "kernelspec": {
   "display_name": "Python 3",
   "language": "python",
   "name": "python3"
  },
  "language_info": {
   "codemirror_mode": {
    "name": "ipython",
    "version": 3
   },
   "file_extension": ".py",
   "mimetype": "text/x-python",
   "name": "python",
   "nbconvert_exporter": "python",
   "pygments_lexer": "ipython3",
   "version": "3.7.0"
  }
 },
 "nbformat": 4,
 "nbformat_minor": 2
}
