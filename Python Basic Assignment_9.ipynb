{
 "cells": [
  {
   "cell_type": "markdown",
   "id": "852090e6",
   "metadata": {},
   "source": [
    "Assignment 9\n",
    "\n",
    "1. To what does a relative path refer?\n",
    "\n",
    "This method only computes the relative path. \n",
    "The existence of the given path or directory is not checked.\n",
    "\n",
    "2. What does an absolute path start with your operating system?\n",
    "\n",
    "An absolute file path describes how to access a given file or directory starting from \n",
    "the root of the file system\n",
    "\n",
    "3. What do the functions os.getcwd() and os.chdir() do?\n",
    "\n",
    "OS module in python provides function for interacting independently with the operating system.\n",
    "\n",
    "os.getcwd() - Method is used to get the current working directory.\n",
    "os.chdir() - Method is used to get change the current working directory\n",
    "\n",
    "\n",
    "4. What are the . and .. folders?\n",
    "\n",
    "The . folder is the current folder, and .. is the parent folder.\n",
    "\n",
    "\n",
    "5. In C:\\bacon\\eggs\\spam.txt, which part is the dir name, and which part is the base name?\n",
    "\n",
    "C:\\bacon\\eggs is the dir name, while spam.txt is the base name.\n",
    "\n",
    "6. What are the three “mode” arguments that can be passed to the open() function?\n",
    "\n",
    "r - read,\n",
    "w - write\n",
    "r+ - read/write\n",
    "\n",
    "7. What happens if an existing file is opened in write mode?\n",
    "\n",
    "The opened file is completely erased and overwritten.\n",
    "\n",
    "8. How do you tell the difference between read() and readlines()?\n",
    "\n",
    "read() - It reads the entire file\n",
    "\n",
    "readLine() - Reads a line of the file and returns them as string element in for of a list\n",
    "\n",
    "9. What data structure does a shelf value resemble?\n",
    "\n",
    "A shelf value resembles a dictionary value, it has keys and values along with keys()\n",
    "and values() method that work similarly to the dictonary method of the same names.\n",
    "\n"
   ]
  }
 ],
 "metadata": {
  "kernelspec": {
   "display_name": "Python 3 (ipykernel)",
   "language": "python",
   "name": "python3"
  },
  "language_info": {
   "codemirror_mode": {
    "name": "ipython",
    "version": 3
   },
   "file_extension": ".py",
   "mimetype": "text/x-python",
   "name": "python",
   "nbconvert_exporter": "python",
   "pygments_lexer": "ipython3",
   "version": "3.9.7"
  }
 },
 "nbformat": 4,
 "nbformat_minor": 5
}
