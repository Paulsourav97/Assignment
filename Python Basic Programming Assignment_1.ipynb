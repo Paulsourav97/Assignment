{
 "cells": [
  {
   "cell_type": "code",
   "execution_count": 4,
   "metadata": {},
   "outputs": [
    {
     "name": "stdout",
     "output_type": "stream",
     "text": [
      " \"Hello Python\" \n"
     ]
    }
   ],
   "source": [
    "##1. Write a Python program to print \"Hello Python\"?\n",
    "\n",
    "print(' \"Hello Python\" ')"
   ]
  },
  {
   "cell_type": "code",
   "execution_count": 4,
   "metadata": {},
   "outputs": [
    {
     "name": "stdout",
     "output_type": "stream",
     "text": [
      "Enter First Number25\n",
      "Enter Second Number32.6\n",
      "Addition:  57.6\n",
      "division:  0.7668711656441718\n"
     ]
    }
   ],
   "source": [
    "##2. Write a Python program to do arithmetical operations addition and division.?\n",
    "\n",
    "a = float(input(\"Enter First Number\"))\n",
    "b = float(input(\"Enter Second Number\"))\n",
    "\n",
    "print(\"Addition: \", (a+b))\n",
    "print(\"division: \", (a/b))"
   ]
  },
  {
   "cell_type": "code",
   "execution_count": 2,
   "metadata": {},
   "outputs": [
    {
     "name": "stdout",
     "output_type": "stream",
     "text": [
      "Enter all values in CM\n",
      "Enter the length of Side 1: 5\n",
      "Enter the length of Side 2: 6\n",
      "Enter the length of Side 3: 7\n",
      "Area of triangle is:  14.696938456699069 cm^2\n"
     ]
    }
   ],
   "source": [
    "##3. Write a Python program to find the area of a triangle?\n",
    "\n",
    "#Area of a triangle = (s*(s-a)*(s-b)*(s-c))^0.5 where s=1/2*(a+b+c)\n",
    "\n",
    "print(\"Enter all values in CM\")\n",
    "a = float(input(\"Enter the length of Side 1: \" ))\n",
    "b = float(input(\"Enter the length of Side 2: \" ))\n",
    "c = float(input(\"Enter the length of Side 3: \" ))\n",
    "\n",
    "s = 0.5 * (a+b+c)\n",
    "area = (s*(s-a)*(s-b)*(s-c))**0.5\n",
    "\n",
    "print(\"Area of triangle is: \", area, \"cm^2\")"
   ]
  },
  {
   "cell_type": "code",
   "execution_count": 3,
   "metadata": {},
   "outputs": [
    {
     "name": "stdout",
     "output_type": "stream",
     "text": [
      "Enter a: 5\n",
      "Enter b: 7\n",
      "a is  7\n",
      "b is  5\n"
     ]
    }
   ],
   "source": [
    "##4 Write a Python program to swap two variables?\n",
    "\n",
    "a = int(input(\"Enter a: \"))\n",
    "b = int(input(\"Enter b: \"))\n",
    "\n",
    "c = b\n",
    "b = a\n",
    "a = c\n",
    "\n",
    "print(\"a is \", a)\n",
    "print(\"b is \", b)"
   ]
  },
  {
   "cell_type": "code",
   "execution_count": 5,
   "metadata": {},
   "outputs": [],
   "source": [
    "##Write a Python program to generate a random number?\n",
    "\n"
   ]
  },
  {
   "cell_type": "code",
   "execution_count": null,
   "metadata": {},
   "outputs": [],
   "source": []
  },
  {
   "cell_type": "code",
   "execution_count": null,
   "metadata": {},
   "outputs": [],
   "source": []
  }
 ],
 "metadata": {
  "kernelspec": {
   "display_name": "Python 3",
   "language": "python",
   "name": "python3"
  },
  "language_info": {
   "codemirror_mode": {
    "name": "ipython",
    "version": 3
   },
   "file_extension": ".py",
   "mimetype": "text/x-python",
   "name": "python",
   "nbconvert_exporter": "python",
   "pygments_lexer": "ipython3",
   "version": "3.7.0"
  }
 },
 "nbformat": 4,
 "nbformat_minor": 2
}
