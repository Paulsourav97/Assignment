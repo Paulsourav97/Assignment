{
 "cells": [
  {
   "cell_type": "code",
   "execution_count": null,
   "id": "32cd4d5b",
   "metadata": {},
   "outputs": [],
   "source": [
    "\"\"\"\n",
    "\n",
    "\n",
    "\n",
    "\n",
    "\n",
    "\n",
    "\n",
    "\n",
    "\"\"\""
   ]
  },
  {
   "cell_type": "code",
   "execution_count": 1,
   "id": "9985e921",
   "metadata": {},
   "outputs": [],
   "source": [
    "arr = [1,2,3,4,5,6,7,8,9]"
   ]
  },
  {
   "cell_type": "code",
   "execution_count": 2,
   "id": "f126b8b8",
   "metadata": {},
   "outputs": [
    {
     "name": "stdout",
     "output_type": "stream",
     "text": [
      "Sum:  45\n"
     ]
    }
   ],
   "source": [
    "#Write a Python program to find sum of elements in list?\n",
    "\n",
    "sum1 = 0\n",
    "for i in arr:\n",
    "    sum1 = sum1 + i\n",
    "    \n",
    "print(\"Sum: \", sum1)"
   ]
  },
  {
   "cell_type": "code",
   "execution_count": 3,
   "id": "e5f39a74",
   "metadata": {},
   "outputs": [
    {
     "name": "stdout",
     "output_type": "stream",
     "text": [
      "Product:  362880\n"
     ]
    }
   ],
   "source": [
    "#Write a Python program to  Multiply all numbers in the list?\n",
    "prod = 1\n",
    "\n",
    "for i in arr:\n",
    "    prod = prod * i\n",
    "    \n",
    "print(\"Product: \", prod)"
   ]
  },
  {
   "cell_type": "code",
   "execution_count": 4,
   "id": "25e0d358",
   "metadata": {},
   "outputs": [
    {
     "name": "stdout",
     "output_type": "stream",
     "text": [
      "1\n"
     ]
    }
   ],
   "source": [
    "#Write a Python program to find smallest number in a list?\n",
    "small = arr[0]\n",
    "\n",
    "for i in range (len(arr)):\n",
    "    if(arr[i]< small):\n",
    "        small=arr[i] \n",
    "        \n",
    "print(small)"
   ]
  },
  {
   "cell_type": "code",
   "execution_count": 5,
   "id": "e741e771",
   "metadata": {},
   "outputs": [
    {
     "name": "stdout",
     "output_type": "stream",
     "text": [
      "9\n"
     ]
    }
   ],
   "source": [
    "#Write a Python program to find largest number in a list?\n",
    "large = arr[0]\n",
    "\n",
    "\n",
    "for i in range (len(arr)):\n",
    "    if(arr[i]> large):\n",
    "        large=arr[i] \n",
    "        \n",
    "print(large)"
   ]
  },
  {
   "cell_type": "code",
   "execution_count": 9,
   "id": "672a0a4e",
   "metadata": {},
   "outputs": [
    {
     "name": "stdout",
     "output_type": "stream",
     "text": [
      "Second Largest 4\n"
     ]
    }
   ],
   "source": [
    "#Write a Python program to find second largest number in a list?\n",
    "arr = [4,2, 3,1,0,9]\n",
    "arr.sort()\n",
    "\n",
    "print(\"Second Largest\", arr[-2])"
   ]
  },
  {
   "cell_type": "code",
   "execution_count": 15,
   "id": "e9df7fb8",
   "metadata": {},
   "outputs": [
    {
     "name": "stdout",
     "output_type": "stream",
     "text": [
      "Check the Nth Largest: 5\n",
      "1\n"
     ]
    }
   ],
   "source": [
    "#Write a Python program to find N largest elements from a list?\n",
    "\n",
    "arr = [4,2, 3,1,0,9]\n",
    "\n",
    "n = int(input(\"Check the Nth Largest: \"))\n",
    "\n",
    "arr.sort()\n",
    "print( arr[-n])"
   ]
  },
  {
   "cell_type": "code",
   "execution_count": 17,
   "id": "1523eb2f",
   "metadata": {},
   "outputs": [
    {
     "name": "stdout",
     "output_type": "stream",
     "text": [
      "Even List [2, 4, 6, 8]\n",
      "odd List [1, 3, 5, 7, 9]\n"
     ]
    }
   ],
   "source": [
    "# Write a Python program to print even numbers in a list?\n",
    "#Write a Python program to print odd numbers in a List?\n",
    "\n",
    "\n",
    "arr = [1,2,3,4,5,6,7,8,9]\n",
    "even = []\n",
    "odd = []\n",
    "\n",
    "for i in arr:\n",
    "    if(i%2 ==  0):\n",
    "        even.append(i)\n",
    "    else:\n",
    "        odd.append(i)\n",
    "        \n",
    "\n",
    "print(\"Even List\", even)\n",
    "print(\"odd List\", odd)\n",
    "        "
   ]
  },
  {
   "cell_type": "code",
   "execution_count": 27,
   "id": "671941bb",
   "metadata": {},
   "outputs": [
    {
     "name": "stdout",
     "output_type": "stream",
     "text": [
      "New array:  [1, 2, 3, 4, 5, 6, 7, 8, [3, 45, 6], 9]\n"
     ]
    }
   ],
   "source": [
    "#Write a Python program to Remove empty List from List?\n",
    "\n",
    "arr = [1,2,3,4,5,6,[],7,8,[3,45,6],9]\n",
    "newarr = []\n",
    "\n",
    "for i in arr:\n",
    "    if type(i) == list:\n",
    "        if not i:\n",
    "            pass\n",
    "        else:\n",
    "            newarr.append(i)\n",
    "    \n",
    "    else:\n",
    "        newarr.append(i)\n",
    "        \n",
    "print(\"New array: \", newarr)"
   ]
  },
  {
   "cell_type": "code",
   "execution_count": 28,
   "id": "bf2f2a79",
   "metadata": {},
   "outputs": [
    {
     "name": "stdout",
     "output_type": "stream",
     "text": [
      "Clone [1, 2, 3, 4, 5, 6, [], 7, 8, [3, 45, 6], 9]\n"
     ]
    }
   ],
   "source": [
    "#Write a Python program to Cloning or Copying a list?\n",
    "\n",
    "arr = [1,2,3,4,5,6,[],7,8,[3,45,6],9]\n",
    "clone = []\n",
    "for i in arr:\n",
    "    clone.append(i)\n",
    "    \n",
    "print(\"Clone\" , clone)"
   ]
  },
  {
   "cell_type": "code",
   "execution_count": 36,
   "id": "572a5cb3",
   "metadata": {},
   "outputs": [
    {
     "name": "stdout",
     "output_type": "stream",
     "text": [
      "Enter number to check occurence3\n",
      "number of occurence 2\n"
     ]
    }
   ],
   "source": [
    "#Write a Python program to Count occurrences of an element in a list?\n",
    "arr = [1,2,3,4,5,6,7,8,9,2,3,4,5,6,7]\n",
    "num= int(input(\"Enter number to check occurence\"))\n",
    "count = 0\n",
    "for i in arr:\n",
    "    if num == i:\n",
    "        count = count + 1\n",
    "\n",
    "print(\"number of occurence\", count)"
   ]
  },
  {
   "cell_type": "code",
   "execution_count": null,
   "id": "3f300990",
   "metadata": {},
   "outputs": [],
   "source": []
  }
 ],
 "metadata": {
  "kernelspec": {
   "display_name": "Python 3 (ipykernel)",
   "language": "python",
   "name": "python3"
  },
  "language_info": {
   "codemirror_mode": {
    "name": "ipython",
    "version": 3
   },
   "file_extension": ".py",
   "mimetype": "text/x-python",
   "name": "python",
   "nbconvert_exporter": "python",
   "pygments_lexer": "ipython3",
   "version": "3.9.7"
  }
 },
 "nbformat": 4,
 "nbformat_minor": 5
}
