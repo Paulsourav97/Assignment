{
 "cells": [
  {
   "cell_type": "markdown",
   "id": "2f27d0bf",
   "metadata": {},
   "source": [
    "Assignment 10\n",
    "\n",
    "1. How do you distinguish between shutil.copy() and shutil.copytree()?\n",
    "\n",
    "shutil.copy() - With the use of this function we can copy one file to another file. \n",
    "\n",
    "source = \"c:\\\\user\\\\soura\\\\Folder1\\\\untitled.txt\"\n",
    "destination = \"c:\\\\user\\\\soura\\\\Folder1\\\\newfile.txt\"\n",
    "\n",
    "Copies the content of untitled.txt to newfile\n",
    "\n",
    "\n",
    "shutil.copytree() - With the use of this function we can copy the entire folder and paste on another folder.\n",
    "\n",
    "source = \"c:\\\\user\\\\soura\\\\Folder1\"\n",
    "destination = \"c:\\\\user\\\\soura\\\\Folder2\n",
    "\n",
    "Copies all the contents in the Folder1 to Folder2.\n",
    "\n",
    "\n",
    "\n",
    "2. What function is used to rename files??\n",
    "\n",
    "os.rename() will help to rename the file or directory.\n",
    "\n",
    "source = \"c:\\\\user\\\\soura\\\\Folder1\\\\untitled.txt\"\n",
    "destination = \"c:\\\\user\\\\soura\\\\Folder1\\\\newfile.txt\"\n",
    "\n",
    "os.rename(source,destination)\n",
    "This will rename the untitiled.txt to newfile.txt\n",
    "\n",
    "\n",
    "\n",
    "3. What is the difference between the delete functions in the send2trash and shutil modules?\n",
    "\n",
    "send2trash() - using send2trash we can send files to trash or recycle bin instead of permanently deleting the file/folders\n",
    "\n",
    "pip install send2trash\n",
    "send2trash.send2trash(\"file/folder path\") \n",
    "\n",
    "The file is push to recycle bin\n",
    "\n",
    "shutil.rmtree() - using this function we can delete the entire folder permanently.\n",
    "\n",
    "import shutil\n",
    "shutil.rmtree(file/folder path)\n",
    "\n",
    "\n",
    "\n",
    "4. ZipFile objects have a close() method just like File objects’ close() method. \n",
    "What ZipFile method is equivalent to File objects’ open() method?\n",
    "\n",
    "filename = \"xyz.zip\"\n",
    "with Zipfile(filename,'r') as zip\n",
    "\n",
    "\n"
   ]
  },
  {
   "cell_type": "code",
   "execution_count": 2,
   "id": "db435e36",
   "metadata": {},
   "outputs": [
    {
     "name": "stdout",
     "output_type": "stream",
     "text": [
      "c:\\Users\\soura\\Live Class Program\\Folder1\\hello.txt\n",
      "c:\\Users\\soura\\Live Class Program\\Folder1\\sourav.txt\n"
     ]
    }
   ],
   "source": [
    "\"\"\"5. Create a programme that searches a folder tree for files with a certain file \n",
    "extension (such as .pdf or .jpg). Copy these files from whatever location they are in to a new folder.\"\"\"\n",
    "\n",
    "\n",
    "import os, shutil\n",
    "\n",
    "sourcePath = \"c:\\\\Users\\\\soura\\\\Live Class Program\\\\Folder1\"\n",
    "\n",
    "destPath = \"c:\\\\Users\\\\soura\\\\Live Class Program\\\\Folder2\"\n",
    "\n",
    "for foldername, subfolders, filenames in os.walk(sourcePath):\n",
    "    for filename in filenames:\n",
    "        if filename.lower().endswith(\".txt\"):\n",
    "            #print(foldername + \"\\\\\" + filename)\n",
    "            copySourcePath = os.path.join(foldername, filename)\n",
    "            print(copySourcePath)\n",
    "            shutil.copy(copySourcePath, destPath)\n",
    "        else:\n",
    "            continue"
   ]
  },
  {
   "cell_type": "code",
   "execution_count": null,
   "id": "dc175059",
   "metadata": {},
   "outputs": [],
   "source": []
  }
 ],
 "metadata": {
  "kernelspec": {
   "display_name": "Python 3 (ipykernel)",
   "language": "python",
   "name": "python3"
  },
  "language_info": {
   "codemirror_mode": {
    "name": "ipython",
    "version": 3
   },
   "file_extension": ".py",
   "mimetype": "text/x-python",
   "name": "python",
   "nbconvert_exporter": "python",
   "pygments_lexer": "ipython3",
   "version": "3.9.7"
  }
 },
 "nbformat": 4,
 "nbformat_minor": 5
}
