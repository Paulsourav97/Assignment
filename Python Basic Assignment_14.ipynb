{
 "cells": [
  {
   "cell_type": "raw",
   "id": "f6c9bef5",
   "metadata": {},
   "source": [
    "\n",
    "1. What does RGBA stand for?\n",
    "\n",
    "RGBA - Red, green, blue, alpha\n",
    "The RGBA is a color space that includes an extra channel called alpha that checks the transparency of the image.\n",
    "\n",
    "\n",
    "2. From the Pillow module, how do you get the RGBA value of any images?\n",
    "\n",
    "Using Method : ImageColor.getcolor()\n",
    "\n",
    "3. What is a box tuple, and how does it work?\n",
    "\n",
    "Image pixels are addressed with x- and y- co-ordinates which specifies images vertical and horizontal location in image.\n",
    "\n",
    "Many pillow's function takes a box tuple argument(left, top, right, bottom)\n",
    "\n",
    "\n",
    "\n",
    "4. Use your image and load in notebook then, How can you find out the width and height of an Image object?\n",
    "\n",
    "image.size() method\n",
    "\n",
    "\n",
    "5. What method would you call to get Image object for a 100×100 image, excluding the lower-left quarter of it?\n",
    "\n",
    "\n",
    "\n",
    "6. After making changes to an Image object, how could you save it as an image file?\n",
    "\n",
    "Image.save()\n",
    "\n",
    "7. What module contains Pillow’s shape-drawing code?\n",
    "\n",
    "ImageDraw\n",
    "\n",
    "8. Image objects do not have drawing methods. What kind of object does? How do you get this kind of object?\n",
    "\n",
    "Image is passed to ImageDraw.Draw() to get an ImageDraw object in draw.\n",
    "You can call the drawing methods on draw\n"
   ]
  }
 ],
 "metadata": {
  "kernelspec": {
   "display_name": "Python 3 (ipykernel)",
   "language": "python",
   "name": "python3"
  },
  "language_info": {
   "codemirror_mode": {
    "name": "ipython",
    "version": 3
   },
   "file_extension": ".py",
   "mimetype": "text/x-python",
   "name": "python",
   "nbconvert_exporter": "python",
   "pygments_lexer": "ipython3",
   "version": "3.9.7"
  }
 },
 "nbformat": 4,
 "nbformat_minor": 5
}
