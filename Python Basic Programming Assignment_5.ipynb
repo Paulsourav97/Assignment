{
 "cells": [
  {
   "cell_type": "markdown",
   "metadata": {},
   "source": [
    "Write a Python Program to Find LCM?\n",
    "Write a Python Program to Find HCF?\n",
    "Write a Python Program to Convert Decimal to Binary, Octal and Hexadecimal?\n",
    "Write a Python Program To Find ASCII value of a character?\n",
    "Write a Python Program to Make a Simple Calculator with 4 basic mathematical operations?"
   ]
  },
  {
   "cell_type": "code",
   "execution_count": 4,
   "metadata": {},
   "outputs": [
    {
     "name": "stdout",
     "output_type": "stream",
     "text": [
      "Enter Number 1  : 96\n",
      "Enter Number 2  : 88\n",
      "LCM :  1056\n"
     ]
    }
   ],
   "source": [
    "#Write a Python Program to Find LCM?\n",
    "\n",
    "n1 = int(input(\"Enter Number 1  : \"))\n",
    "n2 = int(input(\"Enter Number 2  : \"))\n",
    "\n",
    "if (n1>n2):\n",
    "    grt = n1\n",
    "else:\n",
    "    grt = n2\n",
    "    \n",
    "while(True):\n",
    "    if ((grt % n1 == 0 ) and (grt % n2 == 0)):\n",
    "        print(\"LCM : \" , grt)\n",
    "        break\n",
    "    else:\n",
    "        grt = grt + 1\n",
    "        \n",
    "    "
   ]
  },
  {
   "cell_type": "code",
   "execution_count": 5,
   "metadata": {},
   "outputs": [
    {
     "name": "stdout",
     "output_type": "stream",
     "text": [
      "Enter Number 1  : 85\n",
      "Enter Number 2  : 15\n",
      "HCF :  5\n"
     ]
    }
   ],
   "source": [
    "# Write a Python Program to Find HCF?\n",
    "\n",
    "n1 = int(input(\"Enter Number 1  : \"))\n",
    "n2 = int(input(\"Enter Number 2  : \"))\n",
    "\n",
    "if (n1 > n2):\n",
    "    i = n2\n",
    "else:\n",
    "    i = n1\n",
    "    \n",
    "HCF = 1\n",
    "while(i> 1):\n",
    "    if (n1 % i == 0 and n2 % i == 0):\n",
    "        HCF = i\n",
    "        break\n",
    "    else:\n",
    "        i = i - 1\n",
    "        \n",
    "print(\"HCF : \", HCF)"
   ]
  },
  {
   "cell_type": "code",
   "execution_count": 56,
   "metadata": {},
   "outputs": [],
   "source": [
    "# Write a Python Program to Convert Decimal to Binary, Octal and Hexadecimal?\n",
    "\n",
    "\n",
    "def binary(num):\n",
    "    i = 0\n",
    "    b_val=\"\"\n",
    "    while(num != 0 ):\n",
    "        rem = num%2\n",
    "        num = int(num/2)\n",
    "        b_val = str(rem) + b_val\n",
    "        \n",
    "    print(b_val)\n",
    "    \n",
    "    \n",
    "def octal(num):\n",
    "    i = 0\n",
    "    o_val=\"\"\n",
    "    while(num != 0 ):\n",
    "        rem = num%8\n",
    "        num = int(num/8)\n",
    "        o_val = str(rem) + o_val\n",
    "        \n",
    "    print(\"00\",o_val)\n",
    "    \n",
    "def hexa(num):\n",
    "    i = 0\n",
    "    h_val=\"\"\n",
    "    while(num != 0 ):\n",
    "        rem = num%16\n",
    "        num = int(num/16)\n",
    "        if (rem == 10):\n",
    "            rem = \"a\"\n",
    "        elif(rem == 11):\n",
    "            rem = \"b\"\n",
    "            \n",
    "        elif(rem == 12):\n",
    "            rem = \"c\"\n",
    "            \n",
    "        elif(rem == 13):\n",
    "            rem = \"d\"\n",
    "            \n",
    "        elif(rem == 14):\n",
    "            rem = \"e\"\n",
    "            \n",
    "        elif(rem == 15):\n",
    "            rem = \"f\"\n",
    "            \n",
    "        h_val = str(rem) + h_val\n",
    "        \n",
    "    print(\"0x\",h_val)"
   ]
  },
  {
   "cell_type": "code",
   "execution_count": 57,
   "metadata": {},
   "outputs": [
    {
     "name": "stdout",
     "output_type": "stream",
     "text": [
      "1111\n"
     ]
    }
   ],
   "source": [
    "binary(15)"
   ]
  },
  {
   "cell_type": "code",
   "execution_count": 58,
   "metadata": {},
   "outputs": [
    {
     "name": "stdout",
     "output_type": "stream",
     "text": [
      "00 74\n"
     ]
    }
   ],
   "source": [
    "octal(60)"
   ]
  },
  {
   "cell_type": "code",
   "execution_count": 59,
   "metadata": {},
   "outputs": [
    {
     "name": "stdout",
     "output_type": "stream",
     "text": [
      "0x 3c\n"
     ]
    }
   ],
   "source": [
    "hexa(60)"
   ]
  },
  {
   "cell_type": "code",
   "execution_count": 63,
   "metadata": {},
   "outputs": [
    {
     "name": "stdout",
     "output_type": "stream",
     "text": [
      "The ASCII value of 'A' is 65\n"
     ]
    }
   ],
   "source": [
    "#Write a Python Program To Find ASCII value of a character?\n",
    "\n",
    "val = 'A'\n",
    "print(\"The ASCII value of '\" + val + \"' is\", ord(val))"
   ]
  },
  {
   "cell_type": "code",
   "execution_count": 68,
   "metadata": {},
   "outputs": [],
   "source": [
    "#Write a Python Program to Make a Simple Calculator with 4 basic mathematical operations?\n",
    "\n",
    "def calc(a,b,c):\n",
    "    if(b==\"+\"):\n",
    "        return a + c\n",
    "    elif(b == \"-\"):\n",
    "        return a - c\n",
    "    elif(b == \"/\" and c !=0):\n",
    "        return(a/c)\n",
    "    elif(b ==\"*\"):\n",
    "        return a*c\n",
    "    else:\n",
    "        return \" Enter a valid operation\"\n",
    "    "
   ]
  },
  {
   "cell_type": "code",
   "execution_count": 69,
   "metadata": {},
   "outputs": [
    {
     "data": {
      "text/plain": [
       "20"
      ]
     },
     "execution_count": 69,
     "metadata": {},
     "output_type": "execute_result"
    }
   ],
   "source": [
    "calc(4,'*',5)"
   ]
  },
  {
   "cell_type": "code",
   "execution_count": 70,
   "metadata": {},
   "outputs": [
    {
     "data": {
      "text/plain": [
       "-1"
      ]
     },
     "execution_count": 70,
     "metadata": {},
     "output_type": "execute_result"
    }
   ],
   "source": [
    "calc(4,\"-\", 5)"
   ]
  },
  {
   "cell_type": "code",
   "execution_count": null,
   "metadata": {},
   "outputs": [],
   "source": []
  }
 ],
 "metadata": {
  "kernelspec": {
   "display_name": "Python 3",
   "language": "python",
   "name": "python3"
  },
  "language_info": {
   "codemirror_mode": {
    "name": "ipython",
    "version": 3
   },
   "file_extension": ".py",
   "mimetype": "text/x-python",
   "name": "python",
   "nbconvert_exporter": "python",
   "pygments_lexer": "ipython3",
   "version": "3.7.0"
  }
 },
 "nbformat": 4,
 "nbformat_minor": 2
}
